{
  "nbformat": 4,
  "nbformat_minor": 0,
  "metadata": {
    "colab": {
      "provenance": [],
      "authorship_tag": "ABX9TyNVOUEZ2xTshE6lqHayOMxQ",
      "include_colab_link": true
    },
    "kernelspec": {
      "name": "python3",
      "display_name": "Python 3"
    },
    "language_info": {
      "name": "python"
    }
  },
  "cells": [
    {
      "cell_type": "markdown",
      "metadata": {
        "id": "view-in-github",
        "colab_type": "text"
      },
      "source": [
        "<a href=\"https://colab.research.google.com/github/Bongguo/oz_class/blob/main/Chapter_04python%EB%AC%B8%EC%A0%9C%ED%92%80%EA%B8%B0.ipynb\" target=\"_parent\"><img src=\"https://colab.research.google.com/assets/colab-badge.svg\" alt=\"Open In Colab\"/></a>"
      ]
    },
    {
      "cell_type": "markdown",
      "source": [
        "##mission##\n",
        "붕어빵 철이 돌아왔죠  \n",
        "붕어빵(팥):2000원, 붕어빵(슈크림):2500원, 붕어빵(잡채):3000원\n",
        "무인주문기계를 만들어주세요.  \n",
        "붕어빵(잡채) 3개, 붕어빵(슈크림) 2개를 주문하면  \n",
        "\"주문이 완료되었습니다. 붕어빵(슈크림) 2개, 붕어빵(잡채) 3개, 총 5개 결재 금액은 14,000원 입니다.\"  \n",
        "라고 출력이 되도록 코드를 작성해주세요.    \n",
        "\n",
        "**변수를 만들때 스네이크 케이스에 언더바는 2개/ print()문의 포메팅 f-string**"
      ],
      "metadata": {
        "id": "219AvOgKEhf-"
      }
    },
    {
      "cell_type": "markdown",
      "source": [
        "> 'Chapter2-1.프로그래밍의 시작 변수' 36:50 까지들었을 때\n",
        "\n"
      ],
      "metadata": {
        "id": "OmJXswSyE7oJ"
      }
    },
    {
      "cell_type": "code",
      "execution_count": 3,
      "metadata": {
        "colab": {
          "base_uri": "https://localhost:8080/"
        },
        "id": "YH2AaC2bEONW",
        "outputId": "d6d50566-cfde-4fe8-ff39-e4d5fd4c1b11"
      },
      "outputs": [
        {
          "output_type": "stream",
          "name": "stdout",
          "text": [
            "주문이 완료되었습니다.  붕어빵(슈크림)2개, 붕어빵(잡채)3개,  총  5 개  결재 금액은  14000 원 입니다.\n"
          ]
        }
      ],
      "source": [
        "# case1\n",
        "\n",
        "food__pap, food__csc, food__zap = 2000 , 2500 , 3000\n",
        "\n",
        "food__pap=\"붕어빵(팥)\"\n",
        "food__csc=\"붕어빵(슈크림)\"\n",
        "food__zap=\"붕어빵(잡채)\"\n",
        "sum = 2+3\n",
        "sum2 = (2500*2)+(3000*3)\n",
        "print( '주문이 완료되었습니다. ', f'{food__csc}2개,', f'{food__zap}3개, ', '총 ',(sum),'개 ','결재 금액은 ',(sum2),'원 입니다.')\n"
      ]
    }
  ]
}