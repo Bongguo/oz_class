{
  "nbformat": 4,
  "nbformat_minor": 0,
  "metadata": {
    "colab": {
      "provenance": [],
      "authorship_tag": "ABX9TyPZhLkC2U4gjNosSgy839bx",
      "include_colab_link": true
    },
    "kernelspec": {
      "name": "python3",
      "display_name": "Python 3"
    },
    "language_info": {
      "name": "python"
    }
  },
  "cells": [
    {
      "cell_type": "markdown",
      "metadata": {
        "id": "view-in-github",
        "colab_type": "text"
      },
      "source": [
        "<a href=\"https://colab.research.google.com/github/Bongguo/oz_class/blob/main/(1%EC%9D%BC%EC%B0%A8)Chapter_04_python_%EB%AC%B8%EC%A0%9C_%ED%92%80%EA%B8%B0.ipynb\" target=\"_parent\"><img src=\"https://colab.research.google.com/assets/colab-badge.svg\" alt=\"Open In Colab\"/></a>"
      ]
    },
    {
      "cell_type": "markdown",
      "source": [
        "# Chapter_04\n",
        "강의 내용을 바탕으로 아래 문제를 풀어주세요  \n",
        "강의 내용 외 문제는 구글링을 통해 문제를 해결해주세요  \n",
        "(구글링 또한 개발자가 갖쳐야할 역량 중에 하나랍니다 😊 )  "
      ],
      "metadata": {
        "id": "7zizr3IrPHEv"
      }
    },
    {
      "cell_type": "code",
      "execution_count": null,
      "metadata": {
        "colab": {
          "base_uri": "https://localhost:8080/"
        },
        "id": "Q9UlnXaPPDRV",
        "outputId": "be2bcece-aa6e-4f66-b508-e436bcae86e7"
      },
      "outputs": [
        {
          "output_type": "execute_result",
          "data": {
            "text/plain": [
              "2"
            ]
          },
          "metadata": {},
          "execution_count": 2
        }
      ],
      "source": [
        "# 14 % 3의 계산 결과\n",
        "\n",
        "14%3"
      ]
    },
    {
      "cell_type": "code",
      "source": [
        "# 계산식의 결과가 실수인 것\n",
        "\n",
        "print(float(17 // 3))\n",
        "print(float(10) - 2)\n"
      ],
      "metadata": {
        "colab": {
          "base_uri": "https://localhost:8080/"
        },
        "id": "zh6d9tiGPd5q",
        "outputId": "e31111ff-b940-4a93-e695-4a9c5d7817c8"
      },
      "execution_count": null,
      "outputs": [
        {
          "output_type": "stream",
          "name": "stdout",
          "text": [
            "5.0\n",
            "8.0\n"
          ]
        }
      ]
    },
    {
      "cell_type": "code",
      "source": [
        "# 다음 (3 * 7 - 16) / 2 - 1 계산식의 결과값\n",
        "\n",
        "(3 * 7 - 16) / 2 - 1"
      ],
      "metadata": {
        "colab": {
          "base_uri": "https://localhost:8080/"
        },
        "id": "NzEkMVSGPxYm",
        "outputId": "116979e5-fc47-42f0-e93a-b92da2bf36bb"
      },
      "execution_count": null,
      "outputs": [
        {
          "output_type": "execute_result",
          "data": {
            "text/plain": [
              "1.5"
            ]
          },
          "metadata": {},
          "execution_count": 6
        }
      ]
    },
    {
      "cell_type": "code",
      "source": [
        "#거듭제곱을 올바르게 표현한 식\n",
        "\n",
        "2 ** 3"
      ],
      "metadata": {
        "colab": {
          "base_uri": "https://localhost:8080/"
        },
        "id": "kS-evvK6P80k",
        "outputId": "768c9a6a-cfd3-4c4b-f1bf-bcc4dfa8e4f7"
      },
      "execution_count": null,
      "outputs": [
        {
          "output_type": "execute_result",
          "data": {
            "text/plain": [
              "8"
            ]
          },
          "metadata": {},
          "execution_count": 7
        }
      ]
    },
    {
      "cell_type": "code",
      "source": [
        "# 몫과 나머지를 함께 구하기 위해 사용할 수 있는 표현\n",
        "\n",
        "# 답변 : divmod"
      ],
      "metadata": {
        "id": "h6suhuixP_x8"
      },
      "execution_count": null,
      "outputs": []
    }
  ]
}