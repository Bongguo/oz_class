{
  "nbformat": 4,
  "nbformat_minor": 0,
  "metadata": {
    "colab": {
      "provenance": [],
      "authorship_tag": "ABX9TyO9hJnmMO0i8TV2n5+CR80B",
      "include_colab_link": true
    },
    "kernelspec": {
      "name": "python3",
      "display_name": "Python 3"
    },
    "language_info": {
      "name": "python"
    }
  },
  "cells": [
    {
      "cell_type": "markdown",
      "metadata": {
        "id": "view-in-github",
        "colab_type": "text"
      },
      "source": [
        "<a href=\"https://colab.research.google.com/github/Bongguo/oz_class/blob/main/(1%EC%9D%BC%EC%B0%A8)Chapter_01_python_%EB%AC%B8%EC%A0%9C_%ED%92%80%EA%B8%B0.ipynb\" target=\"_parent\"><img src=\"https://colab.research.google.com/assets/colab-badge.svg\" alt=\"Open In Colab\"/></a>"
      ]
    },
    {
      "cell_type": "markdown",
      "source": [
        "####Chapter_01\n",
        "컴퓨터 기초 지식을 의미하는 CS(Computer science)는\n",
        "코딩 테스트와 함께 기술 면접에서 지원자에게 필수적으로 요구합니다.\n",
        "\n",
        "수업 내용 중 기술 면접에 자주 나오는 질문 3가지와 기본적으로 알아야 할 내용 과제로 선정했습니다.\n",
        "\n",
        "관련 내용에 대해서는 구글링 또는 관련 서적을 통해 상세히 공부하시고\n",
        "답변은 최대한 핵심만 담아 간결하게 작성해주세요\n",
        "\n",
        "기술 블로그를 운영 중이신 경우\n",
        "답변 내용을 기술 블로그에 작성하신 후 링크를 답변에 남겨주셔도 됩니다."
      ],
      "metadata": {
        "id": "h84luWsz7wSG"
      }
    },
    {
      "cell_type": "markdown",
      "source": [
        "##1. 인터프리트 방식에 대해 설명하고 장점을 2개 이상 작성해주세요.  \n",
        "(자주 출제되는 기술 면접 문제)\n",
        "\n",
        "답변 : 인터프리트 방식이란 소스코드를 입력할때 한줄씩 번역하여 한줄씩 컴퓨터 실행하기 때문에 시간이 많이 소요된다.\n",
        "하지만, 빌드 과정이 없고 바로 실행이 가능하므로 코드수정이 용이하고 개발기간이 비교적 적다."
      ],
      "metadata": {
        "id": "huHUT0Ba734S"
      }
    },
    {
      "cell_type": "markdown",
      "source": [
        "## 2. 동적 타입 방식의 장점과 단점을 간략히 적고 파이썬으로 정적타입 방식의 코드를 작성할 수 있는 방법을 구글링을 통해 검색 후 설명해주세요.  \n",
        "(자주 출제되는 기술 면접 문제)\n",
        "\n",
        "답변 :\n",
        "\n",
        "동적 타입 방식의 장점 : 코드 작성 시 타입(용도)에 제한이 없어 유연성이 높고 효율적이다.\n",
        "동적 타입 방식의 단점 : 프로그램 실행(Run Time)때 타입(용도)에 문제를 확인할 수 있기 때문에 코드가 길고 복잡할 경우 문제 해결이 쉽지 않다.\n",
        "정적타입 방식의 코드를 작성 할 수 있는 방법 :\n",
        "타입 어노테이션(또는 힌트)"
      ],
      "metadata": {
        "id": "4j4f9KpU8qjz"
      }
    },
    {
      "cell_type": "markdown",
      "source": [
        "##3. 프로세스와 스레드의 차이점을 알려주세요.  \n",
        "(자주 출제되는 기술 면접 문제)\n",
        "\n",
        "답변 : 프로세스는 운영체제로부터 자원을 할당받는 작업의 단위이고 스레드는 프로세스가 할당받은 자원을 이용하는 실행의 단위이다.\n"
      ],
      "metadata": {
        "id": "JANnNcln9F4A"
      }
    },
    {
      "cell_type": "markdown",
      "source": [
        "##4. 파이썬 2버전과 3버전의 차이를 설명해주세요.\n",
        "\n",
        "답변 : 파이썬3에서는 모든 변수가 객체(object)로 처리됨. 이외에 int 나누기 결과가 float, print문 괄호 필수, str과 unicode 통일, long->int로 통일,\n",
        "- 3버전구문은 더 간단하고 이해하기쉬운반면 2버전은 비교적 이해하기 어려움\n",
        "- 3버전의 기본 문자열 저장은 유니코드인 반면, 2버전의 저장소는 \"u\"로 유니코드문자열 값을 정의해야됨\n",
        "- 3버전 변수값은 절대 변경되지 않지만 2버전에서는 전역 변수의 값이 for루프내에서 사용되는 동안 변경됨\n",
        "- 3버전예외는 괄호로 묶어야하고 2버전 예외는 표기법으로 묶어야함\n",
        "- 3버전 순서비교규칙은 단순화된 반면 2버전 순서비교규칙은 .plex.\n",
        "- 3버전에서는 반복을 수행하기위해 Range()함수를 제공하는 반면, Python2 에서는 반복에 xrang() 사용됨"
      ],
      "metadata": {
        "id": "LwJG6IhW9ROq"
      }
    },
    {
      "cell_type": "markdown",
      "source": [
        "##5. 파이썬에서 메모리 관리는 어떻게 이루어지는지 설명해주세요.  \n",
        "\n",
        "답변 : 파이썬에서 메모리 관리는 참조계수(reference counting) 기반으로 이루어집니다. 이는 객체가 생성될 때마다 그 객체를 참조하는 변수의 개수를 추적하는 방식입니다. 객체를 참조하는 변수의 개수가 0이 되면 해당 객체의 메모리는 자동으로 해재됩니다."
      ],
      "metadata": {
        "id": "ARdxMYXI9bps"
      }
    },
    {
      "cell_type": "code",
      "source": [],
      "metadata": {
        "id": "VZgQwhyg8021"
      },
      "execution_count": null,
      "outputs": []
    },
    {
      "cell_type": "code",
      "execution_count": null,
      "metadata": {
        "id": "DB3gI-G07upq"
      },
      "outputs": [],
      "source": []
    }
  ]
}