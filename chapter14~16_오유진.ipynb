{
  "nbformat": 4,
  "nbformat_minor": 0,
  "metadata": {
    "colab": {
      "provenance": [],
      "include_colab_link": true
    },
    "kernelspec": {
      "name": "python3",
      "display_name": "Python 3"
    },
    "language_info": {
      "name": "python"
    }
  },
  "cells": [
    {
      "cell_type": "markdown",
      "metadata": {
        "id": "view-in-github",
        "colab_type": "text"
      },
      "source": [
        "<a href=\"https://colab.research.google.com/github/Bongguo/oz_class/blob/main/chapter14~16_%EC%98%A4%EC%9C%A0%EC%A7%84.ipynb\" target=\"_parent\"><img src=\"https://colab.research.google.com/assets/colab-badge.svg\" alt=\"Open In Colab\"/></a>"
      ]
    },
    {
      "cell_type": "markdown",
      "source": [
        "안녕하세요. 수강생 여러분~! Chapter14 ~ 16 수업은 잘 들으셨나요?\n",
        "\n",
        "Chapter14 ~ 16의 수업 내용을 바탕으로 아래 문제를 풀어주시면 됩니다.\n",
        "\n",
        "####**제출 방법 안내**\n",
        "상단 파일명(4일차_파이썬14_16화.ipynb)을 4일차_파이썬14_16화_000(본인이름).ipynb로 변경후 아래 링크로 접속 후 본인 이름의 폴더에 제출해주면 됩니다.\n",
        "\n",
        "제출 링크 :\n",
        "\n",
        "####**답변 입력 방법 안내**\n",
        "\"답변\"이라고 적힌란을 마우스로 더블 클릭하시면 글을 작성할 수 있습니다.\n",
        "\n",
        "텍스트에 글을 더 잘 작성하기 위해서는 마크다운 언어를 공부하시면 됩니다.\n",
        "\n",
        "**(구글 검색 창에 \"코랩 마크다운\" 검색)**"
      ],
      "metadata": {
        "id": "BX7SgOeWu86I"
      }
    },
    {
      "cell_type": "markdown",
      "source": [
        "##문제1\n",
        "\n",
        "주어진 정수 x와 자연수 n을 이용해, x부터 시작해 x씩 증가하는 숫자를 n개 지니는 리스트를 출력해주세요   \n",
        "\n",
        "x = 2, n =5"
      ],
      "metadata": {
        "id": "7kQJMRuFu-6s"
      }
    },
    {
      "cell_type": "code",
      "execution_count": 1,
      "metadata": {
        "id": "juUF2KYbu0DX",
        "colab": {
          "base_uri": "https://localhost:8080/"
        },
        "outputId": "7e01fab4-b6a6-495d-cf33-acdfa9f76030"
      },
      "outputs": [
        {
          "output_type": "stream",
          "name": "stdout",
          "text": [
            "[2, 4, 6, 8, 10]\n"
          ]
        }
      ],
      "source": [
        "def generate_sequence(x, n):\n",
        "    # x부터 시작해 x씩 증가하는 숫자를 n개 지니는 리스트 생성\n",
        "    result = [x + i * x for i in range(n)]\n",
        "    return result\n",
        "\n",
        "# 예시 입력\n",
        "x = 2\n",
        "n = 5\n",
        "\n",
        "# 함수 호출 및 결과 출력\n",
        "result_sequence = generate_sequence(x, n)\n",
        "print(result_sequence)"
      ]
    },
    {
      "cell_type": "markdown",
      "source": [
        "##문제2\n",
        "\n",
        "전화번호가 문자열 phone_number로 주어졌을 때, 전화번호의 뒷 4자리를 *으로 가린 문자열이 출력되도록 코드를 작성해주세요\n",
        "\n",
        "phone_number = \"01012347890\"  \n",
        "\n",
        "출력 예시 : \"0101234****\""
      ],
      "metadata": {
        "id": "4BPXMLXUvBVL"
      }
    },
    {
      "cell_type": "code",
      "source": [
        "def hide_last_four_digits(phone_number):\n",
        "    # 전화번호의 뒷 4자리를 '*'으로 가리기\n",
        "    hidden_number = phone_number[:-4] + '****'\n",
        "    return hidden_number\n",
        "\n",
        "# 예시 입력\n",
        "phone_number = \"01012347890\"\n",
        "\n",
        "# 함수 호출 및 결과 출력\n",
        "result_hidden_number = hide_last_four_digits(phone_number)\n",
        "print(result_hidden_number)\n"
      ],
      "metadata": {
        "id": "P0fY7CYUvC_j",
        "colab": {
          "base_uri": "https://localhost:8080/"
        },
        "outputId": "dbb697f2-51ab-47c6-8342-e8961c4e7e74"
      },
      "execution_count": 2,
      "outputs": [
        {
          "output_type": "stream",
          "name": "stdout",
          "text": [
            "0101234****\n"
          ]
        }
      ]
    },
    {
      "cell_type": "markdown",
      "source": [
        "##문제3\n",
        "\n",
        "숫자를 건넬 때 일부 자릿수를 영단어로 바꾼 카드를 건네주면 프로도는 원래 숫자를 찾는 게임입니다.\n",
        "\n",
        "다음은 숫자의 일부 자릿수를 영단어로 바꾸는 예시입니다.\n",
        "\n",
        "1478 → \"one4seveneight\"  \n",
        "234567 → \"23four5six7\"  \n",
        "10203 → \"1zerotwozero3\"    \n",
        "\n",
        "이렇게 숫자의 일부 자릿수가 영단어로 바뀌어졌거나,   \n",
        "혹은 바뀌지 않고 그대로인 문자열 s가 주어졌을때\n",
        "s가 의미하는 원래 숫자를 출력하도록 코드를 작성해주세요\n",
        "\n",
        "s = \"77three4one\n",
        "\n",
        "---\n",
        "참고로 각 숫자에 대응되는 영단어는 다음 표와 같습니다.\n",
        "\n",
        "숫자\t영단어  \n",
        "0\tzero  \n",
        "1\tone  \n",
        "2\ttwo  \n",
        "3\tthree  \n",
        "4\tfour  \n",
        "5\tfive  \n",
        "6\tsix  \n",
        "7\tseven  \n",
        "8\teight  \n",
        "9\tnine  "
      ],
      "metadata": {
        "id": "uUdOU9cFvDsq"
      }
    },
    {
      "cell_type": "code",
      "source": [
        "def find_original_number(s):\n",
        "    # 숫자에 대응되는 영단어와 숫자 매핑\n",
        "    words_to_numbers = {\n",
        "        \"zero\": \"0\",\n",
        "        \"one\": \"1\",\n",
        "        \"two\": \"2\",\n",
        "        \"three\": \"3\",\n",
        "        \"four\": \"4\",\n",
        "        \"five\": \"5\",\n",
        "        \"six\": \"6\",\n",
        "        \"seven\": \"7\",\n",
        "        \"eight\": \"8\",\n",
        "        \"nine\": \"9\"\n",
        "    }\n",
        "\n",
        "    # 문자열 s에서 숫자 영단어를 찾아 숫자로 변환\n",
        "    for word, number in words_to_numbers.items():\n",
        "        s = s.replace(word, number)\n",
        "\n",
        "    return int(s)\n",
        "\n",
        "# 예시 입력\n",
        "s = \"77three4one\"\n",
        "\n",
        "# 함수 호출 및 결과 출력\n",
        "result_original_number = find_original_number(s)\n",
        "print(result_original_number)"
      ],
      "metadata": {
        "id": "2NmqRFgDvFtz",
        "colab": {
          "base_uri": "https://localhost:8080/"
        },
        "outputId": "8efe124d-9c89-44c7-a53e-f6afd5e14624"
      },
      "execution_count": 3,
      "outputs": [
        {
          "output_type": "stream",
          "name": "stdout",
          "text": [
            "77341\n"
          ]
        }
      ]
    },
    {
      "cell_type": "markdown",
      "source": [
        "##문제4\n",
        "\n",
        "행렬의 덧셈은 행과 열의 크기가 같은 두 행렬의 같은 행, 같은 열의 값을 서로 더한 결과가 됩니다. 2개의 행렬 arr1과 arr2가 주어졌을 때, 행렬 덧셈의 결과를 출력하는 코드를 작성해주세요(result와 같은 결과가 출력되도록 작성)\n",
        "\n",
        "arr1 = [[1,2],[2,3]]\n",
        "\n",
        "arr2 = [[3,4],[5,6]]\n",
        "\n",
        "result = [[4,6],[7,9]]"
      ],
      "metadata": {
        "id": "J0Tha6AdvGL3"
      }
    },
    {
      "cell_type": "code",
      "source": [
        "def matrix_addition(arr1, arr2):\n",
        "    # 행렬의 크기를 가져옴\n",
        "    rows = len(arr1)\n",
        "    cols = len(arr1[0])\n",
        "\n",
        "    # 결과 행렬 초기화\n",
        "    result = [[0] * cols for _ in range(rows)]\n",
        "\n",
        "    # 행렬 덧셈 계산\n",
        "    for i in range(rows):\n",
        "        for j in range(cols):\n",
        "            result[i][j] = arr1[i][j] + arr2[i][j]\n",
        "\n",
        "    return result\n",
        "\n",
        "# 예시 입력\n",
        "arr1 = [[1, 2], [2, 3]]\n",
        "arr2 = [[3, 4], [5, 6]]\n",
        "\n",
        "# 함수 호출 및 결과 출력\n",
        "result_matrix = matrix_addition(arr1, arr2)\n",
        "print(result_matrix)"
      ],
      "metadata": {
        "id": "ujiXrEhJvIV0",
        "colab": {
          "base_uri": "https://localhost:8080/"
        },
        "outputId": "9b032663-6587-4b3f-ec1f-1089ef74fa02"
      },
      "execution_count": 4,
      "outputs": [
        {
          "output_type": "stream",
          "name": "stdout",
          "text": [
            "[[4, 6], [7, 9]]\n"
          ]
        }
      ]
    },
    {
      "cell_type": "markdown",
      "source": [
        "##문제5\n",
        "\n",
        "양의 정수 x가 하샤드 수이려면 x의 자릿수의 합으로 x가 나누어져야 합니다.   \n",
        "예를 들어 18의 자릿수 합은 1+8=9이고, 18은 9로 나누어 떨어지므로 18은 하샤드 수입니다.   \n",
        "주어진 x를 이용해 x가 하샤드 수인지 아닌지 검사하는 코드를 작성해주세요\n",
        "\n",
        "x = 17\n",
        "\n",
        "----\n",
        "\n",
        "입출력 예시\n",
        "x\t결과값  \n",
        "10\ttrue  \n",
        "12\ttrue  \n",
        "11\tfalse  \n",
        "13\tfalse  "
      ],
      "metadata": {
        "id": "eLdrWVkavJEN"
      }
    },
    {
      "cell_type": "code",
      "source": [
        "def is_harshad_number(x):\n",
        "    # x의 각 자릿수의 합을 계산\n",
        "    digit_sum = sum(int(digit) for digit in str(x))\n",
        "\n",
        "    # x가 자릿수의 합으로 나누어 떨어지는지 검사\n",
        "    return x % digit_sum == 0\n",
        "\n",
        "# 예시 입력\n",
        "x1 = 10\n",
        "x2 = 12\n",
        "x3 = 11\n",
        "x4 = 13\n",
        "\n",
        "# 함수 호출 및 결과 출력\n",
        "result1 = is_harshad_number(x1)\n",
        "result2 = is_harshad_number(x2)\n",
        "result3 = is_harshad_number(x3)\n",
        "result4 = is_harshad_number(x4)\n",
        "\n",
        "print(result1)  # True\n",
        "print(result2)  # True\n",
        "print(result3)  # False\n",
        "print(result4)  # False"
      ],
      "metadata": {
        "id": "EULD-IOrvKmG",
        "colab": {
          "base_uri": "https://localhost:8080/"
        },
        "outputId": "a2edec59-b8ab-4b0c-f54f-8a7754fa9b9a"
      },
      "execution_count": 5,
      "outputs": [
        {
          "output_type": "stream",
          "name": "stdout",
          "text": [
            "True\n",
            "True\n",
            "False\n",
            "False\n"
          ]
        }
      ]
    },
    {
      "cell_type": "markdown",
      "source": [
        "##문제6\n",
        "\n",
        "String형 배열 seoul의 element중 \"Kim\"의 인덱스 x를 찾아, \"김서방은 x에 있다\"는 String을 출력하는 코드를 작성해주세요.   \n",
        "\n",
        "seoul에 \"Kim\"은 오직 한 번만 나타나며 잘못된 값이 입력되는 경우는 없습니다.\n",
        "\n",
        "seoul = [\"Jane\", \"Kim\"]\n",
        "\n",
        "결과\n",
        "\"김서방은 1에 있다\""
      ],
      "metadata": {
        "id": "GeS6hZhivLMZ"
      }
    },
    {
      "cell_type": "code",
      "source": [
        "def find_kim_index(seoul):\n",
        "    # \"Kim\"의 인덱스 찾기\n",
        "    kim_index = seoul.index(\"Kim\")\n",
        "\n",
        "    # 결과 출력\n",
        "    result = f\"김서방은 {kim_index}에 있다\"\n",
        "    print(result)\n",
        "\n",
        "# 예시 입력\n",
        "seoul = [\"Jane\", \"Kim\"]\n",
        "\n",
        "# 함수 호출\n",
        "find_kim_index(seoul)"
      ],
      "metadata": {
        "id": "e4LXat3BvRRg",
        "colab": {
          "base_uri": "https://localhost:8080/"
        },
        "outputId": "0d25fd08-c797-40c0-f35c-7215c0e85d36"
      },
      "execution_count": 6,
      "outputs": [
        {
          "output_type": "stream",
          "name": "stdout",
          "text": [
            "김서방은 1에 있다\n"
          ]
        }
      ]
    },
    {
      "cell_type": "markdown",
      "source": [
        "##문제7\n",
        "\n",
        "0부터 9까지의 숫자 중 일부가 들어있는 정수 배열 numbers가 주어집니다.   \n",
        "numbers에서 찾을 수 없는 0부터 9까지의 숫자를 모두 찾아 더한 수를 출력해주세요\n",
        "\n",
        "numbers = [5,8,1,0,6,9]"
      ],
      "metadata": {
        "id": "iZjKl-ZqvOkm"
      }
    },
    {
      "cell_type": "code",
      "source": [
        "def find_missing_numbers_sum(numbers):\n",
        "    # 0부터 9까지의 숫자 모두 포함하는 집합 생성\n",
        "    all_numbers = set(range(10))\n",
        "\n",
        "    # numbers에 있는 숫자들을 제외한 숫자들의 합 계산\n",
        "    missing_numbers_sum = sum(all_numbers - set(numbers))\n",
        "\n",
        "    return missing_numbers_sum\n",
        "\n",
        "# 예시 입력\n",
        "numbers = [5, 8, 1, 0, 6, 9]\n",
        "\n",
        "# 함수 호출 및 결과 출력\n",
        "result_sum = find_missing_numbers_sum(numbers)\n",
        "print(result_sum)"
      ],
      "metadata": {
        "id": "598DAkIHvQav",
        "colab": {
          "base_uri": "https://localhost:8080/"
        },
        "outputId": "bb18e428-c6d7-4830-f29b-e018a1690180"
      },
      "execution_count": 7,
      "outputs": [
        {
          "output_type": "stream",
          "name": "stdout",
          "text": [
            "16\n"
          ]
        }
      ]
    }
  ]
}